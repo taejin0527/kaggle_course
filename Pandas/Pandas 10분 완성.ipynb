{
 "cells": [
  {
   "cell_type": "markdown",
   "metadata": {},
   "source": [
    "패키지 호출"
   ]
  },
  {
   "cell_type": "code",
   "execution_count": 2,
   "metadata": {
    "ExecuteTime": {
     "end_time": "2020-06-10T03:57:22.217165Z",
     "start_time": "2020-06-10T03:57:19.937621Z"
    }
   },
   "outputs": [],
   "source": [
    "import pandas as pd\n",
    "import numpy as np\n",
    "import matplotlib.pyplot as plt"
   ]
  },
  {
   "cell_type": "markdown",
   "metadata": {},
   "source": [
    "# Object Creation (객체 생성)\n",
    "\n",
    "## Creating Series\n",
    "\n",
    "Pandas는 값을 가지고 있는 리스트를 통해 Series를 만들고, 정수로 만들어진 인덱스를 기본값으로 불러온다.\n",
    "\n",
    "> 아래 예제에서는 [1, 2, 5, NaN, 6, 8] 리스트를 사용하고 결과값의 오른쪽에 표시됨\n",
    ">\n",
    "> 0부터 시작하는 인덱스 값은 왼쪽에 표시됨"
   ]
  },
  {
   "cell_type": "code",
   "execution_count": 6,
   "metadata": {
    "ExecuteTime": {
     "end_time": "2020-06-10T03:58:05.872690Z",
     "start_time": "2020-06-10T03:58:05.863523Z"
    }
   },
   "outputs": [
    {
     "data": {
      "text/plain": [
       "0    1.0\n",
       "1    3.0\n",
       "2    5.0\n",
       "3    NaN\n",
       "4    6.0\n",
       "5    8.0\n",
       "dtype: float64"
      ]
     },
     "execution_count": 6,
     "metadata": {},
     "output_type": "execute_result"
    }
   ],
   "source": [
    "s = pd.Series([1,3,5,np.nan,6,8])\n",
    "s"
   ]
  },
  {
   "cell_type": "markdown",
   "metadata": {
    "ExecuteTime": {
     "end_time": "2020-06-10T03:57:40.793193Z",
     "start_time": "2020-06-10T03:57:40.780865Z"
    }
   },
   "source": [
    "## Creating DataFrame\n",
    "\n",
    "### By Numpy 배열"
   ]
  },
  {
   "cell_type": "code",
   "execution_count": 9,
   "metadata": {
    "ExecuteTime": {
     "end_time": "2020-06-10T04:00:22.409440Z",
     "start_time": "2020-06-10T04:00:22.402549Z"
    }
   },
   "outputs": [
    {
     "data": {
      "text/plain": [
       "DatetimeIndex(['2020-01-01', '2020-01-02', '2020-01-03', '2020-01-04',\n",
       "               '2020-01-05', '2020-01-06'],\n",
       "              dtype='datetime64[ns]', freq='D')"
      ]
     },
     "execution_count": 9,
     "metadata": {},
     "output_type": "execute_result"
    }
   ],
   "source": [
    "dates = pd.date_range('20200101', periods=6)\n",
    "dates"
   ]
  },
  {
   "cell_type": "markdown",
   "metadata": {},
   "source": [
    "__pd.date_range(시작날짜, periods=생성할 날짜-시간 개수)__ 함수를 사용하여 2020년 1월 1일부터 6일까지의 날짜 데이터 생성\n",
    "\n",
    "__freq 옵션__ 은 'S' 1초 단위, '10S' 10초 단위, 'H' 1시간 단위, 'D' 1일 단위, 'M' 1달 단위(월 말일 기준), 'Y' 1년 단위 (년 말일 기준) 등으로 날짜-시간 시계열 데이터 생성 주기 나타냄 (default = 'D')\n",
    "\n",
    "참고로, __pd.date_range(start='시작 날짜-시간', end='끝 날짜-시간')__ 처럼 명시적으로 시작과 끝의 날짜-시간을 지정해주어도 위의 perieds를 사용한 예와 동일한 결과를 얻을 수 있다."
   ]
  },
  {
   "cell_type": "code",
   "execution_count": 11,
   "metadata": {
    "ExecuteTime": {
     "end_time": "2020-06-10T04:10:26.224663Z",
     "start_time": "2020-06-10T04:10:26.217500Z"
    }
   },
   "outputs": [
    {
     "data": {
      "text/plain": [
       "DatetimeIndex(['2020-01-01', '2020-01-02', '2020-01-03', '2020-01-04',\n",
       "               '2020-01-05', '2020-01-06'],\n",
       "              dtype='datetime64[ns]', freq='D')"
      ]
     },
     "execution_count": 11,
     "metadata": {},
     "output_type": "execute_result"
    }
   ],
   "source": [
    "pd.date_range(start='20200101', end='20200106')"
   ]
  },
  {
   "cell_type": "code",
   "execution_count": 12,
   "metadata": {
    "ExecuteTime": {
     "end_time": "2020-06-10T04:21:49.634933Z",
     "start_time": "2020-06-10T04:21:49.616815Z"
    }
   },
   "outputs": [
    {
     "data": {
      "text/html": [
       "<div>\n",
       "<style scoped>\n",
       "    .dataframe tbody tr th:only-of-type {\n",
       "        vertical-align: middle;\n",
       "    }\n",
       "\n",
       "    .dataframe tbody tr th {\n",
       "        vertical-align: top;\n",
       "    }\n",
       "\n",
       "    .dataframe thead th {\n",
       "        text-align: right;\n",
       "    }\n",
       "</style>\n",
       "<table border=\"1\" class=\"dataframe\">\n",
       "  <thead>\n",
       "    <tr style=\"text-align: right;\">\n",
       "      <th></th>\n",
       "      <th>A</th>\n",
       "      <th>B</th>\n",
       "      <th>C</th>\n",
       "      <th>D</th>\n",
       "    </tr>\n",
       "  </thead>\n",
       "  <tbody>\n",
       "    <tr>\n",
       "      <th>2020-01-01</th>\n",
       "      <td>-0.999641</td>\n",
       "      <td>-0.706367</td>\n",
       "      <td>-0.807672</td>\n",
       "      <td>0.320407</td>\n",
       "    </tr>\n",
       "    <tr>\n",
       "      <th>2020-01-02</th>\n",
       "      <td>-0.775322</td>\n",
       "      <td>1.281910</td>\n",
       "      <td>0.010319</td>\n",
       "      <td>0.399705</td>\n",
       "    </tr>\n",
       "    <tr>\n",
       "      <th>2020-01-03</th>\n",
       "      <td>-0.647642</td>\n",
       "      <td>-0.490912</td>\n",
       "      <td>-0.317904</td>\n",
       "      <td>0.773827</td>\n",
       "    </tr>\n",
       "    <tr>\n",
       "      <th>2020-01-04</th>\n",
       "      <td>-1.199544</td>\n",
       "      <td>2.099920</td>\n",
       "      <td>0.066917</td>\n",
       "      <td>-0.420068</td>\n",
       "    </tr>\n",
       "    <tr>\n",
       "      <th>2020-01-05</th>\n",
       "      <td>-0.573793</td>\n",
       "      <td>-0.871332</td>\n",
       "      <td>1.376489</td>\n",
       "      <td>-1.048176</td>\n",
       "    </tr>\n",
       "    <tr>\n",
       "      <th>2020-01-06</th>\n",
       "      <td>0.000056</td>\n",
       "      <td>0.406120</td>\n",
       "      <td>0.367155</td>\n",
       "      <td>1.305775</td>\n",
       "    </tr>\n",
       "  </tbody>\n",
       "</table>\n",
       "</div>"
      ],
      "text/plain": [
       "                   A         B         C         D\n",
       "2020-01-01 -0.999641 -0.706367 -0.807672  0.320407\n",
       "2020-01-02 -0.775322  1.281910  0.010319  0.399705\n",
       "2020-01-03 -0.647642 -0.490912 -0.317904  0.773827\n",
       "2020-01-04 -1.199544  2.099920  0.066917 -0.420068\n",
       "2020-01-05 -0.573793 -0.871332  1.376489 -1.048176\n",
       "2020-01-06  0.000056  0.406120  0.367155  1.305775"
      ]
     },
     "execution_count": 12,
     "metadata": {},
     "output_type": "execute_result"
    }
   ],
   "source": [
    "df = pd.DataFrame(np.random.randn(6, 4), index=dates, columns=list('ABCD'))\n",
    "df"
   ]
  },
  {
   "cell_type": "markdown",
   "metadata": {},
   "source": [
    "__np.random.randn(m, n)__ : 평균 0, 표준편차 1의 가우시안 표준정규분포 난수를 matrix array(m, n)으로 생성\n",
    "\n",
    "> 예제에서는 6x4 크기의 행렬(행[index]: 1일부터 6일까지, 열[columns]: ABCD)에 난수를 할당"
   ]
  },
  {
   "cell_type": "markdown",
   "metadata": {},
   "source": [
    "### By dict objects\n",
    "\n",
    "Series와 같은 것으로 변환될 수 있는 객체들의 dict"
   ]
  },
  {
   "cell_type": "code",
   "execution_count": 13,
   "metadata": {
    "ExecuteTime": {
     "end_time": "2020-06-10T04:25:16.599740Z",
     "start_time": "2020-06-10T04:25:16.551279Z"
    }
   },
   "outputs": [
    {
     "data": {
      "text/html": [
       "<div>\n",
       "<style scoped>\n",
       "    .dataframe tbody tr th:only-of-type {\n",
       "        vertical-align: middle;\n",
       "    }\n",
       "\n",
       "    .dataframe tbody tr th {\n",
       "        vertical-align: top;\n",
       "    }\n",
       "\n",
       "    .dataframe thead th {\n",
       "        text-align: right;\n",
       "    }\n",
       "</style>\n",
       "<table border=\"1\" class=\"dataframe\">\n",
       "  <thead>\n",
       "    <tr style=\"text-align: right;\">\n",
       "      <th></th>\n",
       "      <th>A</th>\n",
       "      <th>B</th>\n",
       "      <th>C</th>\n",
       "      <th>D</th>\n",
       "    </tr>\n",
       "  </thead>\n",
       "  <tbody>\n",
       "    <tr>\n",
       "      <th>2020-01-01</th>\n",
       "      <td>-0.999641</td>\n",
       "      <td>-0.706367</td>\n",
       "      <td>-0.807672</td>\n",
       "      <td>0.320407</td>\n",
       "    </tr>\n",
       "    <tr>\n",
       "      <th>2020-01-02</th>\n",
       "      <td>-0.775322</td>\n",
       "      <td>1.281910</td>\n",
       "      <td>0.010319</td>\n",
       "      <td>0.399705</td>\n",
       "    </tr>\n",
       "    <tr>\n",
       "      <th>2020-01-03</th>\n",
       "      <td>-0.647642</td>\n",
       "      <td>-0.490912</td>\n",
       "      <td>-0.317904</td>\n",
       "      <td>0.773827</td>\n",
       "    </tr>\n",
       "    <tr>\n",
       "      <th>2020-01-04</th>\n",
       "      <td>-1.199544</td>\n",
       "      <td>2.099920</td>\n",
       "      <td>0.066917</td>\n",
       "      <td>-0.420068</td>\n",
       "    </tr>\n",
       "    <tr>\n",
       "      <th>2020-01-05</th>\n",
       "      <td>-0.573793</td>\n",
       "      <td>-0.871332</td>\n",
       "      <td>1.376489</td>\n",
       "      <td>-1.048176</td>\n",
       "    </tr>\n",
       "    <tr>\n",
       "      <th>2020-01-06</th>\n",
       "      <td>0.000056</td>\n",
       "      <td>0.406120</td>\n",
       "      <td>0.367155</td>\n",
       "      <td>1.305775</td>\n",
       "    </tr>\n",
       "  </tbody>\n",
       "</table>\n",
       "</div>"
      ],
      "text/plain": [
       "                   A         B         C         D\n",
       "2020-01-01 -0.999641 -0.706367 -0.807672  0.320407\n",
       "2020-01-02 -0.775322  1.281910  0.010319  0.399705\n",
       "2020-01-03 -0.647642 -0.490912 -0.317904  0.773827\n",
       "2020-01-04 -1.199544  2.099920  0.066917 -0.420068\n",
       "2020-01-05 -0.573793 -0.871332  1.376489 -1.048176\n",
       "2020-01-06  0.000056  0.406120  0.367155  1.305775"
      ]
     },
     "execution_count": 13,
     "metadata": {},
     "output_type": "execute_result"
    }
   ],
   "source": [
    "df2 = pd.DataFrame({'A' : 1.,\n",
    "                    'B' : pd.Timestamp('20130102'),\n",
    "                    'C' : pd.Series(1,index=list(range(4)),dtype='float32'),\n",
    "                    'D' : np.array([3] * 4,dtype='int32'),\n",
    "                    'E' : pd.Categorical([\"test\",\"train\",\"test\",\"train\"]),\n",
    "                    'F' : 'foo' })\n",
    "\n",
    "df"
   ]
  },
  {
   "cell_type": "markdown",
   "metadata": {},
   "source": [
    "데이터프레임 결과물의 열은 다양한 데이터 타입 (dtypes)으로 구성되어 있는 것을 확인"
   ]
  },
  {
   "cell_type": "code",
   "execution_count": 16,
   "metadata": {
    "ExecuteTime": {
     "end_time": "2020-06-10T04:26:31.724222Z",
     "start_time": "2020-06-10T04:26:31.714389Z"
    }
   },
   "outputs": [
    {
     "data": {
      "text/plain": [
       "A           float64\n",
       "B    datetime64[ns]\n",
       "C           float32\n",
       "D             int32\n",
       "E          category\n",
       "F            object\n",
       "dtype: object"
      ]
     },
     "execution_count": 16,
     "metadata": {},
     "output_type": "execute_result"
    }
   ],
   "source": [
    "df2.dtypes"
   ]
  },
  {
   "cell_type": "markdown",
   "metadata": {},
   "source": [
    "# Viewing Data (데이터 확인)\n",
    "\n",
    "데이터프레임의 가장 윗 줄과 마지막 줄을 확인하고 싶을 때에 사용하는 방법은 다음과 같습니다.\n",
    "\n",
    "> 괄호() 안에는 숫자가 들어갈 수도 있고 안 들어갈 수도 있다. \n",
    ">\n",
    "> 숫자가 들어간다면, 윗 / 마지막 줄의 특정 줄을 불러올 수 있다. 숫자가 들어가지 않다면, 기본값인 5로 처리"
   ]
  },
  {
   "cell_type": "code",
   "execution_count": 17,
   "metadata": {
    "ExecuteTime": {
     "end_time": "2020-06-10T04:42:18.936881Z",
     "start_time": "2020-06-10T04:42:18.917814Z"
    }
   },
   "outputs": [
    {
     "data": {
      "text/html": [
       "<div>\n",
       "<style scoped>\n",
       "    .dataframe tbody tr th:only-of-type {\n",
       "        vertical-align: middle;\n",
       "    }\n",
       "\n",
       "    .dataframe tbody tr th {\n",
       "        vertical-align: top;\n",
       "    }\n",
       "\n",
       "    .dataframe thead th {\n",
       "        text-align: right;\n",
       "    }\n",
       "</style>\n",
       "<table border=\"1\" class=\"dataframe\">\n",
       "  <thead>\n",
       "    <tr style=\"text-align: right;\">\n",
       "      <th></th>\n",
       "      <th>A</th>\n",
       "      <th>B</th>\n",
       "      <th>C</th>\n",
       "      <th>D</th>\n",
       "    </tr>\n",
       "  </thead>\n",
       "  <tbody>\n",
       "    <tr>\n",
       "      <th>2020-01-01</th>\n",
       "      <td>-0.999641</td>\n",
       "      <td>-0.706367</td>\n",
       "      <td>-0.807672</td>\n",
       "      <td>0.320407</td>\n",
       "    </tr>\n",
       "    <tr>\n",
       "      <th>2020-01-02</th>\n",
       "      <td>-0.775322</td>\n",
       "      <td>1.281910</td>\n",
       "      <td>0.010319</td>\n",
       "      <td>0.399705</td>\n",
       "    </tr>\n",
       "    <tr>\n",
       "      <th>2020-01-03</th>\n",
       "      <td>-0.647642</td>\n",
       "      <td>-0.490912</td>\n",
       "      <td>-0.317904</td>\n",
       "      <td>0.773827</td>\n",
       "    </tr>\n",
       "    <tr>\n",
       "      <th>2020-01-04</th>\n",
       "      <td>-1.199544</td>\n",
       "      <td>2.099920</td>\n",
       "      <td>0.066917</td>\n",
       "      <td>-0.420068</td>\n",
       "    </tr>\n",
       "    <tr>\n",
       "      <th>2020-01-05</th>\n",
       "      <td>-0.573793</td>\n",
       "      <td>-0.871332</td>\n",
       "      <td>1.376489</td>\n",
       "      <td>-1.048176</td>\n",
       "    </tr>\n",
       "  </tbody>\n",
       "</table>\n",
       "</div>"
      ],
      "text/plain": [
       "                   A         B         C         D\n",
       "2020-01-01 -0.999641 -0.706367 -0.807672  0.320407\n",
       "2020-01-02 -0.775322  1.281910  0.010319  0.399705\n",
       "2020-01-03 -0.647642 -0.490912 -0.317904  0.773827\n",
       "2020-01-04 -1.199544  2.099920  0.066917 -0.420068\n",
       "2020-01-05 -0.573793 -0.871332  1.376489 -1.048176"
      ]
     },
     "execution_count": 17,
     "metadata": {},
     "output_type": "execute_result"
    }
   ],
   "source": [
    "df.head() # 처음 5줄"
   ]
  },
  {
   "cell_type": "code",
   "execution_count": 18,
   "metadata": {
    "ExecuteTime": {
     "end_time": "2020-06-10T04:42:31.610027Z",
     "start_time": "2020-06-10T04:42:31.593632Z"
    }
   },
   "outputs": [
    {
     "data": {
      "text/html": [
       "<div>\n",
       "<style scoped>\n",
       "    .dataframe tbody tr th:only-of-type {\n",
       "        vertical-align: middle;\n",
       "    }\n",
       "\n",
       "    .dataframe tbody tr th {\n",
       "        vertical-align: top;\n",
       "    }\n",
       "\n",
       "    .dataframe thead th {\n",
       "        text-align: right;\n",
       "    }\n",
       "</style>\n",
       "<table border=\"1\" class=\"dataframe\">\n",
       "  <thead>\n",
       "    <tr style=\"text-align: right;\">\n",
       "      <th></th>\n",
       "      <th>A</th>\n",
       "      <th>B</th>\n",
       "      <th>C</th>\n",
       "      <th>D</th>\n",
       "    </tr>\n",
       "  </thead>\n",
       "  <tbody>\n",
       "    <tr>\n",
       "      <th>2020-01-04</th>\n",
       "      <td>-1.199544</td>\n",
       "      <td>2.099920</td>\n",
       "      <td>0.066917</td>\n",
       "      <td>-0.420068</td>\n",
       "    </tr>\n",
       "    <tr>\n",
       "      <th>2020-01-05</th>\n",
       "      <td>-0.573793</td>\n",
       "      <td>-0.871332</td>\n",
       "      <td>1.376489</td>\n",
       "      <td>-1.048176</td>\n",
       "    </tr>\n",
       "    <tr>\n",
       "      <th>2020-01-06</th>\n",
       "      <td>0.000056</td>\n",
       "      <td>0.406120</td>\n",
       "      <td>0.367155</td>\n",
       "      <td>1.305775</td>\n",
       "    </tr>\n",
       "  </tbody>\n",
       "</table>\n",
       "</div>"
      ],
      "text/plain": [
       "                   A         B         C         D\n",
       "2020-01-04 -1.199544  2.099920  0.066917 -0.420068\n",
       "2020-01-05 -0.573793 -0.871332  1.376489 -1.048176\n",
       "2020-01-06  0.000056  0.406120  0.367155  1.305775"
      ]
     },
     "execution_count": 18,
     "metadata": {},
     "output_type": "execute_result"
    }
   ],
   "source": [
    "df.tail(3) # 마지막 3줄"
   ]
  },
  {
   "cell_type": "markdown",
   "metadata": {},
   "source": [
    "인덱스 (index), 열 (column) 그리고 Numpy 데이터에 대한 세부 정보"
   ]
  },
  {
   "cell_type": "code",
   "execution_count": 19,
   "metadata": {
    "ExecuteTime": {
     "end_time": "2020-06-10T04:43:41.937127Z",
     "start_time": "2020-06-10T04:43:41.929372Z"
    }
   },
   "outputs": [
    {
     "data": {
      "text/plain": [
       "DatetimeIndex(['2020-01-01', '2020-01-02', '2020-01-03', '2020-01-04',\n",
       "               '2020-01-05', '2020-01-06'],\n",
       "              dtype='datetime64[ns]', freq='D')"
      ]
     },
     "execution_count": 19,
     "metadata": {},
     "output_type": "execute_result"
    }
   ],
   "source": [
    "df.index"
   ]
  },
  {
   "cell_type": "code",
   "execution_count": 21,
   "metadata": {
    "ExecuteTime": {
     "end_time": "2020-06-10T04:43:47.815248Z",
     "start_time": "2020-06-10T04:43:47.808945Z"
    }
   },
   "outputs": [
    {
     "data": {
      "text/plain": [
       "Index(['A', 'B', 'C', 'D'], dtype='object')"
      ]
     },
     "execution_count": 21,
     "metadata": {},
     "output_type": "execute_result"
    }
   ],
   "source": [
    "df.columns"
   ]
  },
  {
   "cell_type": "code",
   "execution_count": 22,
   "metadata": {
    "ExecuteTime": {
     "end_time": "2020-06-10T04:43:53.101671Z",
     "start_time": "2020-06-10T04:43:53.089099Z"
    }
   },
   "outputs": [
    {
     "data": {
      "text/plain": [
       "array([[ -9.99641483e-01,  -7.06366633e-01,  -8.07672330e-01,\n",
       "          3.20406591e-01],\n",
       "       [ -7.75322192e-01,   1.28191019e+00,   1.03188122e-02,\n",
       "          3.99704778e-01],\n",
       "       [ -6.47641786e-01,  -4.90912248e-01,  -3.17903858e-01,\n",
       "          7.73826789e-01],\n",
       "       [ -1.19954409e+00,   2.09992007e+00,   6.69172254e-02,\n",
       "         -4.20067952e-01],\n",
       "       [ -5.73792997e-01,  -8.71332302e-01,   1.37648876e+00,\n",
       "         -1.04817607e+00],\n",
       "       [  5.60698051e-05,   4.06120029e-01,   3.67155470e-01,\n",
       "          1.30577538e+00]])"
      ]
     },
     "execution_count": 22,
     "metadata": {},
     "output_type": "execute_result"
    }
   ],
   "source": [
    "df.values"
   ]
  },
  {
   "cell_type": "markdown",
   "metadata": {},
   "source": [
    "describe()는 데이터의 대략적인 통계적 정보 요약"
   ]
  },
  {
   "cell_type": "code",
   "execution_count": 23,
   "metadata": {
    "ExecuteTime": {
     "end_time": "2020-06-10T04:44:12.368412Z",
     "start_time": "2020-06-10T04:44:12.307262Z"
    }
   },
   "outputs": [
    {
     "data": {
      "text/html": [
       "<div>\n",
       "<style scoped>\n",
       "    .dataframe tbody tr th:only-of-type {\n",
       "        vertical-align: middle;\n",
       "    }\n",
       "\n",
       "    .dataframe tbody tr th {\n",
       "        vertical-align: top;\n",
       "    }\n",
       "\n",
       "    .dataframe thead th {\n",
       "        text-align: right;\n",
       "    }\n",
       "</style>\n",
       "<table border=\"1\" class=\"dataframe\">\n",
       "  <thead>\n",
       "    <tr style=\"text-align: right;\">\n",
       "      <th></th>\n",
       "      <th>A</th>\n",
       "      <th>B</th>\n",
       "      <th>C</th>\n",
       "      <th>D</th>\n",
       "    </tr>\n",
       "  </thead>\n",
       "  <tbody>\n",
       "    <tr>\n",
       "      <th>count</th>\n",
       "      <td>6.000000</td>\n",
       "      <td>6.000000</td>\n",
       "      <td>6.000000</td>\n",
       "      <td>6.000000</td>\n",
       "    </tr>\n",
       "    <tr>\n",
       "      <th>mean</th>\n",
       "      <td>-0.699314</td>\n",
       "      <td>0.286557</td>\n",
       "      <td>0.115884</td>\n",
       "      <td>0.221912</td>\n",
       "    </tr>\n",
       "    <tr>\n",
       "      <th>std</th>\n",
       "      <td>0.413219</td>\n",
       "      <td>1.202029</td>\n",
       "      <td>0.735790</td>\n",
       "      <td>0.842133</td>\n",
       "    </tr>\n",
       "    <tr>\n",
       "      <th>min</th>\n",
       "      <td>-1.199544</td>\n",
       "      <td>-0.871332</td>\n",
       "      <td>-0.807672</td>\n",
       "      <td>-1.048176</td>\n",
       "    </tr>\n",
       "    <tr>\n",
       "      <th>25%</th>\n",
       "      <td>-0.943562</td>\n",
       "      <td>-0.652503</td>\n",
       "      <td>-0.235848</td>\n",
       "      <td>-0.234949</td>\n",
       "    </tr>\n",
       "    <tr>\n",
       "      <th>50%</th>\n",
       "      <td>-0.711482</td>\n",
       "      <td>-0.042396</td>\n",
       "      <td>0.038618</td>\n",
       "      <td>0.360056</td>\n",
       "    </tr>\n",
       "    <tr>\n",
       "      <th>75%</th>\n",
       "      <td>-0.592255</td>\n",
       "      <td>1.062963</td>\n",
       "      <td>0.292096</td>\n",
       "      <td>0.680296</td>\n",
       "    </tr>\n",
       "    <tr>\n",
       "      <th>max</th>\n",
       "      <td>0.000056</td>\n",
       "      <td>2.099920</td>\n",
       "      <td>1.376489</td>\n",
       "      <td>1.305775</td>\n",
       "    </tr>\n",
       "  </tbody>\n",
       "</table>\n",
       "</div>"
      ],
      "text/plain": [
       "              A         B         C         D\n",
       "count  6.000000  6.000000  6.000000  6.000000\n",
       "mean  -0.699314  0.286557  0.115884  0.221912\n",
       "std    0.413219  1.202029  0.735790  0.842133\n",
       "min   -1.199544 -0.871332 -0.807672 -1.048176\n",
       "25%   -0.943562 -0.652503 -0.235848 -0.234949\n",
       "50%   -0.711482 -0.042396  0.038618  0.360056\n",
       "75%   -0.592255  1.062963  0.292096  0.680296\n",
       "max    0.000056  2.099920  1.376489  1.305775"
      ]
     },
     "execution_count": 23,
     "metadata": {},
     "output_type": "execute_result"
    }
   ],
   "source": [
    "df.describe()"
   ]
  },
  {
   "cell_type": "markdown",
   "metadata": {
    "ExecuteTime": {
     "end_time": "2020-06-10T04:45:43.040298Z",
     "start_time": "2020-06-10T04:45:43.037072Z"
    }
   },
   "source": [
    "# Selection (선택)\n",
    "\n",
    "> 선택과 설정을 위한 Python / Numpy의 표준화된 표현들이 직관적이며, 코드 작성을 위한 양방향 작업에 유용하지만 \n",
    ">\n",
    "> Pandas에 최적화된 데이터 접근 방법인 .at, .iat, .loc 및 .iloc 을 추천"
   ]
  },
  {
   "cell_type": "markdown",
   "metadata": {},
   "source": [
    "## Getting (데이터 얻기)\n",
    "\n",
    "df.A 와 동일한 Series를 생성하는 단일 열을 선택"
   ]
  },
  {
   "cell_type": "code",
   "execution_count": 25,
   "metadata": {
    "ExecuteTime": {
     "end_time": "2020-06-10T04:48:16.898991Z",
     "start_time": "2020-06-10T04:48:16.849297Z"
    }
   },
   "outputs": [
    {
     "data": {
      "text/plain": [
       "2020-01-01   -0.999641\n",
       "2020-01-02   -0.775322\n",
       "2020-01-03   -0.647642\n",
       "2020-01-04   -1.199544\n",
       "2020-01-05   -0.573793\n",
       "2020-01-06    0.000056\n",
       "Freq: D, Name: A, dtype: float64"
      ]
     },
     "execution_count": 25,
     "metadata": {},
     "output_type": "execute_result"
    }
   ],
   "source": [
    "df['A']"
   ]
  },
  {
   "cell_type": "markdown",
   "metadata": {},
   "source": [
    "행을 분할하는 [ ]를 통해 선택"
   ]
  },
  {
   "cell_type": "code",
   "execution_count": 26,
   "metadata": {
    "ExecuteTime": {
     "end_time": "2020-06-10T04:48:48.857683Z",
     "start_time": "2020-06-10T04:48:48.842713Z"
    }
   },
   "outputs": [
    {
     "data": {
      "text/html": [
       "<div>\n",
       "<style scoped>\n",
       "    .dataframe tbody tr th:only-of-type {\n",
       "        vertical-align: middle;\n",
       "    }\n",
       "\n",
       "    .dataframe tbody tr th {\n",
       "        vertical-align: top;\n",
       "    }\n",
       "\n",
       "    .dataframe thead th {\n",
       "        text-align: right;\n",
       "    }\n",
       "</style>\n",
       "<table border=\"1\" class=\"dataframe\">\n",
       "  <thead>\n",
       "    <tr style=\"text-align: right;\">\n",
       "      <th></th>\n",
       "      <th>A</th>\n",
       "      <th>B</th>\n",
       "      <th>C</th>\n",
       "      <th>D</th>\n",
       "    </tr>\n",
       "  </thead>\n",
       "  <tbody>\n",
       "    <tr>\n",
       "      <th>2020-01-01</th>\n",
       "      <td>-0.999641</td>\n",
       "      <td>-0.706367</td>\n",
       "      <td>-0.807672</td>\n",
       "      <td>0.320407</td>\n",
       "    </tr>\n",
       "    <tr>\n",
       "      <th>2020-01-02</th>\n",
       "      <td>-0.775322</td>\n",
       "      <td>1.281910</td>\n",
       "      <td>0.010319</td>\n",
       "      <td>0.399705</td>\n",
       "    </tr>\n",
       "    <tr>\n",
       "      <th>2020-01-03</th>\n",
       "      <td>-0.647642</td>\n",
       "      <td>-0.490912</td>\n",
       "      <td>-0.317904</td>\n",
       "      <td>0.773827</td>\n",
       "    </tr>\n",
       "  </tbody>\n",
       "</table>\n",
       "</div>"
      ],
      "text/plain": [
       "                   A         B         C         D\n",
       "2020-01-01 -0.999641 -0.706367 -0.807672  0.320407\n",
       "2020-01-02 -0.775322  1.281910  0.010319  0.399705\n",
       "2020-01-03 -0.647642 -0.490912 -0.317904  0.773827"
      ]
     },
     "execution_count": 26,
     "metadata": {},
     "output_type": "execute_result"
    }
   ],
   "source": [
    "df[0:3]"
   ]
  },
  {
   "cell_type": "code",
   "execution_count": 28,
   "metadata": {
    "ExecuteTime": {
     "end_time": "2020-06-10T04:49:09.116340Z",
     "start_time": "2020-06-10T04:49:09.099344Z"
    }
   },
   "outputs": [
    {
     "data": {
      "text/html": [
       "<div>\n",
       "<style scoped>\n",
       "    .dataframe tbody tr th:only-of-type {\n",
       "        vertical-align: middle;\n",
       "    }\n",
       "\n",
       "    .dataframe tbody tr th {\n",
       "        vertical-align: top;\n",
       "    }\n",
       "\n",
       "    .dataframe thead th {\n",
       "        text-align: right;\n",
       "    }\n",
       "</style>\n",
       "<table border=\"1\" class=\"dataframe\">\n",
       "  <thead>\n",
       "    <tr style=\"text-align: right;\">\n",
       "      <th></th>\n",
       "      <th>A</th>\n",
       "      <th>B</th>\n",
       "      <th>C</th>\n",
       "      <th>D</th>\n",
       "    </tr>\n",
       "  </thead>\n",
       "  <tbody>\n",
       "    <tr>\n",
       "      <th>2020-01-04</th>\n",
       "      <td>-1.199544</td>\n",
       "      <td>2.099920</td>\n",
       "      <td>0.066917</td>\n",
       "      <td>-0.420068</td>\n",
       "    </tr>\n",
       "    <tr>\n",
       "      <th>2020-01-05</th>\n",
       "      <td>-0.573793</td>\n",
       "      <td>-0.871332</td>\n",
       "      <td>1.376489</td>\n",
       "      <td>-1.048176</td>\n",
       "    </tr>\n",
       "    <tr>\n",
       "      <th>2020-01-06</th>\n",
       "      <td>0.000056</td>\n",
       "      <td>0.406120</td>\n",
       "      <td>0.367155</td>\n",
       "      <td>1.305775</td>\n",
       "    </tr>\n",
       "  </tbody>\n",
       "</table>\n",
       "</div>"
      ],
      "text/plain": [
       "                   A         B         C         D\n",
       "2020-01-04 -1.199544  2.099920  0.066917 -0.420068\n",
       "2020-01-05 -0.573793 -0.871332  1.376489 -1.048176\n",
       "2020-01-06  0.000056  0.406120  0.367155  1.305775"
      ]
     },
     "execution_count": 28,
     "metadata": {},
     "output_type": "execute_result"
    }
   ],
   "source": [
    "df['20200104':'20200106']"
   ]
  },
  {
   "cell_type": "markdown",
   "metadata": {},
   "source": [
    "## Selection by Label (Label 을 통한 선택)\n",
    "\n",
    "횡단면(cross section)을 출력\n",
    "\n",
    "> 예제는 2020년 1월 1일 값을 출력함"
   ]
  },
  {
   "cell_type": "code",
   "execution_count": 29,
   "metadata": {
    "ExecuteTime": {
     "end_time": "2020-06-10T04:50:59.507518Z",
     "start_time": "2020-06-10T04:50:59.498406Z"
    }
   },
   "outputs": [
    {
     "data": {
      "text/plain": [
       "A   -0.999641\n",
       "B   -0.706367\n",
       "C   -0.807672\n",
       "D    0.320407\n",
       "Name: 2020-01-01 00:00:00, dtype: float64"
      ]
     },
     "execution_count": 29,
     "metadata": {},
     "output_type": "execute_result"
    }
   ],
   "source": [
    "df.loc[dates[0]]"
   ]
  },
  {
   "cell_type": "markdown",
   "metadata": {},
   "source": [
    "여러 축(multi-axis)을 출력"
   ]
  },
  {
   "cell_type": "code",
   "execution_count": 30,
   "metadata": {
    "ExecuteTime": {
     "end_time": "2020-06-10T04:52:02.167278Z",
     "start_time": "2020-06-10T04:52:02.144515Z"
    }
   },
   "outputs": [
    {
     "data": {
      "text/html": [
       "<div>\n",
       "<style scoped>\n",
       "    .dataframe tbody tr th:only-of-type {\n",
       "        vertical-align: middle;\n",
       "    }\n",
       "\n",
       "    .dataframe tbody tr th {\n",
       "        vertical-align: top;\n",
       "    }\n",
       "\n",
       "    .dataframe thead th {\n",
       "        text-align: right;\n",
       "    }\n",
       "</style>\n",
       "<table border=\"1\" class=\"dataframe\">\n",
       "  <thead>\n",
       "    <tr style=\"text-align: right;\">\n",
       "      <th></th>\n",
       "      <th>A</th>\n",
       "      <th>B</th>\n",
       "    </tr>\n",
       "  </thead>\n",
       "  <tbody>\n",
       "    <tr>\n",
       "      <th>2020-01-01</th>\n",
       "      <td>-0.999641</td>\n",
       "      <td>-0.706367</td>\n",
       "    </tr>\n",
       "    <tr>\n",
       "      <th>2020-01-02</th>\n",
       "      <td>-0.775322</td>\n",
       "      <td>1.281910</td>\n",
       "    </tr>\n",
       "    <tr>\n",
       "      <th>2020-01-03</th>\n",
       "      <td>-0.647642</td>\n",
       "      <td>-0.490912</td>\n",
       "    </tr>\n",
       "    <tr>\n",
       "      <th>2020-01-04</th>\n",
       "      <td>-1.199544</td>\n",
       "      <td>2.099920</td>\n",
       "    </tr>\n",
       "    <tr>\n",
       "      <th>2020-01-05</th>\n",
       "      <td>-0.573793</td>\n",
       "      <td>-0.871332</td>\n",
       "    </tr>\n",
       "    <tr>\n",
       "      <th>2020-01-06</th>\n",
       "      <td>0.000056</td>\n",
       "      <td>0.406120</td>\n",
       "    </tr>\n",
       "  </tbody>\n",
       "</table>\n",
       "</div>"
      ],
      "text/plain": [
       "                   A         B\n",
       "2020-01-01 -0.999641 -0.706367\n",
       "2020-01-02 -0.775322  1.281910\n",
       "2020-01-03 -0.647642 -0.490912\n",
       "2020-01-04 -1.199544  2.099920\n",
       "2020-01-05 -0.573793 -0.871332\n",
       "2020-01-06  0.000056  0.406120"
      ]
     },
     "execution_count": 30,
     "metadata": {},
     "output_type": "execute_result"
    }
   ],
   "source": [
    "df.loc[:, ['A', 'B']]"
   ]
  },
  {
   "cell_type": "markdown",
   "metadata": {},
   "source": [
    "양쪽 종단점을 포함한 라벨 슬라이싱"
   ]
  },
  {
   "cell_type": "code",
   "execution_count": 32,
   "metadata": {
    "ExecuteTime": {
     "end_time": "2020-06-10T04:53:07.918907Z",
     "start_time": "2020-06-10T04:53:07.902228Z"
    }
   },
   "outputs": [
    {
     "data": {
      "text/html": [
       "<div>\n",
       "<style scoped>\n",
       "    .dataframe tbody tr th:only-of-type {\n",
       "        vertical-align: middle;\n",
       "    }\n",
       "\n",
       "    .dataframe tbody tr th {\n",
       "        vertical-align: top;\n",
       "    }\n",
       "\n",
       "    .dataframe thead th {\n",
       "        text-align: right;\n",
       "    }\n",
       "</style>\n",
       "<table border=\"1\" class=\"dataframe\">\n",
       "  <thead>\n",
       "    <tr style=\"text-align: right;\">\n",
       "      <th></th>\n",
       "      <th>A</th>\n",
       "      <th>B</th>\n",
       "    </tr>\n",
       "  </thead>\n",
       "  <tbody>\n",
       "    <tr>\n",
       "      <th>2020-01-02</th>\n",
       "      <td>-0.775322</td>\n",
       "      <td>1.281910</td>\n",
       "    </tr>\n",
       "    <tr>\n",
       "      <th>2020-01-03</th>\n",
       "      <td>-0.647642</td>\n",
       "      <td>-0.490912</td>\n",
       "    </tr>\n",
       "    <tr>\n",
       "      <th>2020-01-04</th>\n",
       "      <td>-1.199544</td>\n",
       "      <td>2.099920</td>\n",
       "    </tr>\n",
       "  </tbody>\n",
       "</table>\n",
       "</div>"
      ],
      "text/plain": [
       "                   A         B\n",
       "2020-01-02 -0.775322  1.281910\n",
       "2020-01-03 -0.647642 -0.490912\n",
       "2020-01-04 -1.199544  2.099920"
      ]
     },
     "execution_count": 32,
     "metadata": {},
     "output_type": "execute_result"
    }
   ],
   "source": [
    "df.loc['20200102':'20200104', ['A', 'B']]"
   ]
  },
  {
   "cell_type": "markdown",
   "metadata": {},
   "source": [
    "스칼라 값"
   ]
  },
  {
   "cell_type": "code",
   "execution_count": 37,
   "metadata": {
    "ExecuteTime": {
     "end_time": "2020-06-10T04:54:50.408663Z",
     "start_time": "2020-06-10T04:54:50.402753Z"
    }
   },
   "outputs": [
    {
     "data": {
      "text/plain": [
       "-0.99964148295041122"
      ]
     },
     "execution_count": 37,
     "metadata": {},
     "output_type": "execute_result"
    }
   ],
   "source": [
    "df.loc[dates[0], 'A']"
   ]
  },
  {
   "cell_type": "markdown",
   "metadata": {},
   "source": [
    "스칼라 값을 더 빠르게 구하는 방법(앞선 메소드와 동일)"
   ]
  },
  {
   "cell_type": "code",
   "execution_count": 36,
   "metadata": {
    "ExecuteTime": {
     "end_time": "2020-06-10T04:54:43.028688Z",
     "start_time": "2020-06-10T04:54:43.022871Z"
    }
   },
   "outputs": [
    {
     "data": {
      "text/plain": [
       "-0.99964148295041122"
      ]
     },
     "execution_count": 36,
     "metadata": {},
     "output_type": "execute_result"
    }
   ],
   "source": [
    "df.at[dates[0], 'A']"
   ]
  },
  {
   "cell_type": "markdown",
   "metadata": {},
   "source": [
    "## Selection by Position (위치로 선택하기)\n",
    "\n",
    "넘겨받은 정수의 위치를 기준으로 선택"
   ]
  },
  {
   "cell_type": "code",
   "execution_count": 38,
   "metadata": {
    "ExecuteTime": {
     "end_time": "2020-06-10T04:55:19.325757Z",
     "start_time": "2020-06-10T04:55:19.318358Z"
    }
   },
   "outputs": [
    {
     "data": {
      "text/plain": [
       "A   -1.199544\n",
       "B    2.099920\n",
       "C    0.066917\n",
       "D   -0.420068\n",
       "Name: 2020-01-04 00:00:00, dtype: float64"
      ]
     },
     "execution_count": 38,
     "metadata": {},
     "output_type": "execute_result"
    }
   ],
   "source": [
    "df.iloc[3]"
   ]
  },
  {
   "cell_type": "markdown",
   "metadata": {},
   "source": [
    "정수로 표기된 슬라이스들을 통해, numpy / python과 유사하게 작동"
   ]
  },
  {
   "cell_type": "code",
   "execution_count": 39,
   "metadata": {
    "ExecuteTime": {
     "end_time": "2020-06-10T05:01:02.324053Z",
     "start_time": "2020-06-10T05:01:02.311800Z"
    }
   },
   "outputs": [
    {
     "data": {
      "text/html": [
       "<div>\n",
       "<style scoped>\n",
       "    .dataframe tbody tr th:only-of-type {\n",
       "        vertical-align: middle;\n",
       "    }\n",
       "\n",
       "    .dataframe tbody tr th {\n",
       "        vertical-align: top;\n",
       "    }\n",
       "\n",
       "    .dataframe thead th {\n",
       "        text-align: right;\n",
       "    }\n",
       "</style>\n",
       "<table border=\"1\" class=\"dataframe\">\n",
       "  <thead>\n",
       "    <tr style=\"text-align: right;\">\n",
       "      <th></th>\n",
       "      <th>A</th>\n",
       "      <th>B</th>\n",
       "    </tr>\n",
       "  </thead>\n",
       "  <tbody>\n",
       "    <tr>\n",
       "      <th>2020-01-04</th>\n",
       "      <td>-1.199544</td>\n",
       "      <td>2.099920</td>\n",
       "    </tr>\n",
       "    <tr>\n",
       "      <th>2020-01-05</th>\n",
       "      <td>-0.573793</td>\n",
       "      <td>-0.871332</td>\n",
       "    </tr>\n",
       "  </tbody>\n",
       "</table>\n",
       "</div>"
      ],
      "text/plain": [
       "                   A         B\n",
       "2020-01-04 -1.199544  2.099920\n",
       "2020-01-05 -0.573793 -0.871332"
      ]
     },
     "execution_count": 39,
     "metadata": {},
     "output_type": "execute_result"
    }
   ],
   "source": [
    "df.iloc[3:5, 0:2]"
   ]
  },
  {
   "cell_type": "markdown",
   "metadata": {},
   "source": [
    "정수로 표기된 위치값의 리스트들을 통해, numpy / python의 스타일과 유사"
   ]
  },
  {
   "cell_type": "code",
   "execution_count": 40,
   "metadata": {
    "ExecuteTime": {
     "end_time": "2020-06-10T05:12:59.858494Z",
     "start_time": "2020-06-10T05:12:59.839609Z"
    }
   },
   "outputs": [
    {
     "data": {
      "text/html": [
       "<div>\n",
       "<style scoped>\n",
       "    .dataframe tbody tr th:only-of-type {\n",
       "        vertical-align: middle;\n",
       "    }\n",
       "\n",
       "    .dataframe tbody tr th {\n",
       "        vertical-align: top;\n",
       "    }\n",
       "\n",
       "    .dataframe thead th {\n",
       "        text-align: right;\n",
       "    }\n",
       "</style>\n",
       "<table border=\"1\" class=\"dataframe\">\n",
       "  <thead>\n",
       "    <tr style=\"text-align: right;\">\n",
       "      <th></th>\n",
       "      <th>A</th>\n",
       "      <th>C</th>\n",
       "    </tr>\n",
       "  </thead>\n",
       "  <tbody>\n",
       "    <tr>\n",
       "      <th>2020-01-02</th>\n",
       "      <td>-0.775322</td>\n",
       "      <td>0.010319</td>\n",
       "    </tr>\n",
       "    <tr>\n",
       "      <th>2020-01-03</th>\n",
       "      <td>-0.647642</td>\n",
       "      <td>-0.317904</td>\n",
       "    </tr>\n",
       "    <tr>\n",
       "      <th>2020-01-05</th>\n",
       "      <td>-0.573793</td>\n",
       "      <td>1.376489</td>\n",
       "    </tr>\n",
       "  </tbody>\n",
       "</table>\n",
       "</div>"
      ],
      "text/plain": [
       "                   A         C\n",
       "2020-01-02 -0.775322  0.010319\n",
       "2020-01-03 -0.647642 -0.317904\n",
       "2020-01-05 -0.573793  1.376489"
      ]
     },
     "execution_count": 40,
     "metadata": {},
     "output_type": "execute_result"
    }
   ],
   "source": [
    "df.iloc[[1,2,4],[0,2]]"
   ]
  },
  {
   "cell_type": "markdown",
   "metadata": {},
   "source": [
    "명시적으로 (특정한) 값을 얻고자 하는 경우 (스칼라 값)"
   ]
  },
  {
   "cell_type": "code",
   "execution_count": 41,
   "metadata": {
    "ExecuteTime": {
     "end_time": "2020-06-10T05:13:32.332652Z",
     "start_time": "2020-06-10T05:13:32.326565Z"
    }
   },
   "outputs": [
    {
     "data": {
      "text/plain": [
       "1.2819101876702725"
      ]
     },
     "execution_count": 41,
     "metadata": {},
     "output_type": "execute_result"
    }
   ],
   "source": [
    "df.iloc[1,1]"
   ]
  },
  {
   "cell_type": "markdown",
   "metadata": {
    "ExecuteTime": {
     "end_time": "2020-06-10T05:13:41.743521Z",
     "start_time": "2020-06-10T05:13:41.737539Z"
    }
   },
   "source": [
    "스칼라 값을 빠르게 얻는 방법(위의 방식과 동일)"
   ]
  },
  {
   "cell_type": "code",
   "execution_count": 43,
   "metadata": {
    "ExecuteTime": {
     "end_time": "2020-06-10T05:13:50.834367Z",
     "start_time": "2020-06-10T05:13:50.827734Z"
    }
   },
   "outputs": [
    {
     "data": {
      "text/plain": [
       "1.2819101876702725"
      ]
     },
     "execution_count": 43,
     "metadata": {},
     "output_type": "execute_result"
    }
   ],
   "source": [
    "df.iat[1,1]"
   ]
  },
  {
   "cell_type": "markdown",
   "metadata": {},
   "source": [
    "## Boolean Indexing"
   ]
  },
  {
   "cell_type": "code",
   "execution_count": 44,
   "metadata": {
    "ExecuteTime": {
     "end_time": "2020-06-10T05:14:20.626611Z",
     "start_time": "2020-06-10T05:14:20.610915Z"
    }
   },
   "outputs": [
    {
     "data": {
      "text/html": [
       "<div>\n",
       "<style scoped>\n",
       "    .dataframe tbody tr th:only-of-type {\n",
       "        vertical-align: middle;\n",
       "    }\n",
       "\n",
       "    .dataframe tbody tr th {\n",
       "        vertical-align: top;\n",
       "    }\n",
       "\n",
       "    .dataframe thead th {\n",
       "        text-align: right;\n",
       "    }\n",
       "</style>\n",
       "<table border=\"1\" class=\"dataframe\">\n",
       "  <thead>\n",
       "    <tr style=\"text-align: right;\">\n",
       "      <th></th>\n",
       "      <th>A</th>\n",
       "      <th>B</th>\n",
       "      <th>C</th>\n",
       "      <th>D</th>\n",
       "    </tr>\n",
       "  </thead>\n",
       "  <tbody>\n",
       "    <tr>\n",
       "      <th>2020-01-06</th>\n",
       "      <td>0.000056</td>\n",
       "      <td>0.40612</td>\n",
       "      <td>0.367155</td>\n",
       "      <td>1.305775</td>\n",
       "    </tr>\n",
       "  </tbody>\n",
       "</table>\n",
       "</div>"
      ],
      "text/plain": [
       "                   A        B         C         D\n",
       "2020-01-06  0.000056  0.40612  0.367155  1.305775"
      ]
     },
     "execution_count": 44,
     "metadata": {},
     "output_type": "execute_result"
    }
   ],
   "source": [
    "df[df.A > 0]"
   ]
  },
  {
   "cell_type": "code",
   "execution_count": 45,
   "metadata": {
    "ExecuteTime": {
     "end_time": "2020-06-10T05:14:27.272595Z",
     "start_time": "2020-06-10T05:14:27.243598Z"
    }
   },
   "outputs": [
    {
     "data": {
      "text/html": [
       "<div>\n",
       "<style scoped>\n",
       "    .dataframe tbody tr th:only-of-type {\n",
       "        vertical-align: middle;\n",
       "    }\n",
       "\n",
       "    .dataframe tbody tr th {\n",
       "        vertical-align: top;\n",
       "    }\n",
       "\n",
       "    .dataframe thead th {\n",
       "        text-align: right;\n",
       "    }\n",
       "</style>\n",
       "<table border=\"1\" class=\"dataframe\">\n",
       "  <thead>\n",
       "    <tr style=\"text-align: right;\">\n",
       "      <th></th>\n",
       "      <th>A</th>\n",
       "      <th>B</th>\n",
       "      <th>C</th>\n",
       "      <th>D</th>\n",
       "    </tr>\n",
       "  </thead>\n",
       "  <tbody>\n",
       "    <tr>\n",
       "      <th>2020-01-01</th>\n",
       "      <td>NaN</td>\n",
       "      <td>NaN</td>\n",
       "      <td>NaN</td>\n",
       "      <td>0.320407</td>\n",
       "    </tr>\n",
       "    <tr>\n",
       "      <th>2020-01-02</th>\n",
       "      <td>NaN</td>\n",
       "      <td>1.28191</td>\n",
       "      <td>0.010319</td>\n",
       "      <td>0.399705</td>\n",
       "    </tr>\n",
       "    <tr>\n",
       "      <th>2020-01-03</th>\n",
       "      <td>NaN</td>\n",
       "      <td>NaN</td>\n",
       "      <td>NaN</td>\n",
       "      <td>0.773827</td>\n",
       "    </tr>\n",
       "    <tr>\n",
       "      <th>2020-01-04</th>\n",
       "      <td>NaN</td>\n",
       "      <td>2.09992</td>\n",
       "      <td>0.066917</td>\n",
       "      <td>NaN</td>\n",
       "    </tr>\n",
       "    <tr>\n",
       "      <th>2020-01-05</th>\n",
       "      <td>NaN</td>\n",
       "      <td>NaN</td>\n",
       "      <td>1.376489</td>\n",
       "      <td>NaN</td>\n",
       "    </tr>\n",
       "    <tr>\n",
       "      <th>2020-01-06</th>\n",
       "      <td>0.000056</td>\n",
       "      <td>0.40612</td>\n",
       "      <td>0.367155</td>\n",
       "      <td>1.305775</td>\n",
       "    </tr>\n",
       "  </tbody>\n",
       "</table>\n",
       "</div>"
      ],
      "text/plain": [
       "                   A        B         C         D\n",
       "2020-01-01       NaN      NaN       NaN  0.320407\n",
       "2020-01-02       NaN  1.28191  0.010319  0.399705\n",
       "2020-01-03       NaN      NaN       NaN  0.773827\n",
       "2020-01-04       NaN  2.09992  0.066917       NaN\n",
       "2020-01-05       NaN      NaN  1.376489       NaN\n",
       "2020-01-06  0.000056  0.40612  0.367155  1.305775"
      ]
     },
     "execution_count": 45,
     "metadata": {},
     "output_type": "execute_result"
    }
   ],
   "source": [
    "df[df > 0]"
   ]
  },
  {
   "cell_type": "markdown",
   "metadata": {},
   "source": [
    "필터링을 위한 메소드 isin()을 사용"
   ]
  },
  {
   "cell_type": "code",
   "execution_count": 46,
   "metadata": {
    "ExecuteTime": {
     "end_time": "2020-06-10T05:15:00.831310Z",
     "start_time": "2020-06-10T05:15:00.807279Z"
    }
   },
   "outputs": [
    {
     "data": {
      "text/html": [
       "<div>\n",
       "<style scoped>\n",
       "    .dataframe tbody tr th:only-of-type {\n",
       "        vertical-align: middle;\n",
       "    }\n",
       "\n",
       "    .dataframe tbody tr th {\n",
       "        vertical-align: top;\n",
       "    }\n",
       "\n",
       "    .dataframe thead th {\n",
       "        text-align: right;\n",
       "    }\n",
       "</style>\n",
       "<table border=\"1\" class=\"dataframe\">\n",
       "  <thead>\n",
       "    <tr style=\"text-align: right;\">\n",
       "      <th></th>\n",
       "      <th>A</th>\n",
       "      <th>B</th>\n",
       "      <th>C</th>\n",
       "      <th>D</th>\n",
       "      <th>E</th>\n",
       "    </tr>\n",
       "  </thead>\n",
       "  <tbody>\n",
       "    <tr>\n",
       "      <th>2020-01-01</th>\n",
       "      <td>-0.999641</td>\n",
       "      <td>-0.706367</td>\n",
       "      <td>-0.807672</td>\n",
       "      <td>0.320407</td>\n",
       "      <td>one</td>\n",
       "    </tr>\n",
       "    <tr>\n",
       "      <th>2020-01-02</th>\n",
       "      <td>-0.775322</td>\n",
       "      <td>1.281910</td>\n",
       "      <td>0.010319</td>\n",
       "      <td>0.399705</td>\n",
       "      <td>one</td>\n",
       "    </tr>\n",
       "    <tr>\n",
       "      <th>2020-01-03</th>\n",
       "      <td>-0.647642</td>\n",
       "      <td>-0.490912</td>\n",
       "      <td>-0.317904</td>\n",
       "      <td>0.773827</td>\n",
       "      <td>two</td>\n",
       "    </tr>\n",
       "    <tr>\n",
       "      <th>2020-01-04</th>\n",
       "      <td>-1.199544</td>\n",
       "      <td>2.099920</td>\n",
       "      <td>0.066917</td>\n",
       "      <td>-0.420068</td>\n",
       "      <td>three</td>\n",
       "    </tr>\n",
       "    <tr>\n",
       "      <th>2020-01-05</th>\n",
       "      <td>-0.573793</td>\n",
       "      <td>-0.871332</td>\n",
       "      <td>1.376489</td>\n",
       "      <td>-1.048176</td>\n",
       "      <td>four</td>\n",
       "    </tr>\n",
       "    <tr>\n",
       "      <th>2020-01-06</th>\n",
       "      <td>0.000056</td>\n",
       "      <td>0.406120</td>\n",
       "      <td>0.367155</td>\n",
       "      <td>1.305775</td>\n",
       "      <td>three</td>\n",
       "    </tr>\n",
       "  </tbody>\n",
       "</table>\n",
       "</div>"
      ],
      "text/plain": [
       "                   A         B         C         D      E\n",
       "2020-01-01 -0.999641 -0.706367 -0.807672  0.320407    one\n",
       "2020-01-02 -0.775322  1.281910  0.010319  0.399705    one\n",
       "2020-01-03 -0.647642 -0.490912 -0.317904  0.773827    two\n",
       "2020-01-04 -1.199544  2.099920  0.066917 -0.420068  three\n",
       "2020-01-05 -0.573793 -0.871332  1.376489 -1.048176   four\n",
       "2020-01-06  0.000056  0.406120  0.367155  1.305775  three"
      ]
     },
     "execution_count": 46,
     "metadata": {},
     "output_type": "execute_result"
    }
   ],
   "source": [
    "df2 = df.copy()\n",
    "df2['E'] = ['one', 'one', 'two', 'three', 'four', 'three']\n",
    "\n",
    "df2"
   ]
  },
  {
   "cell_type": "code",
   "execution_count": 47,
   "metadata": {
    "ExecuteTime": {
     "end_time": "2020-06-10T05:15:05.567280Z",
     "start_time": "2020-06-10T05:15:05.545031Z"
    }
   },
   "outputs": [
    {
     "data": {
      "text/html": [
       "<div>\n",
       "<style scoped>\n",
       "    .dataframe tbody tr th:only-of-type {\n",
       "        vertical-align: middle;\n",
       "    }\n",
       "\n",
       "    .dataframe tbody tr th {\n",
       "        vertical-align: top;\n",
       "    }\n",
       "\n",
       "    .dataframe thead th {\n",
       "        text-align: right;\n",
       "    }\n",
       "</style>\n",
       "<table border=\"1\" class=\"dataframe\">\n",
       "  <thead>\n",
       "    <tr style=\"text-align: right;\">\n",
       "      <th></th>\n",
       "      <th>A</th>\n",
       "      <th>B</th>\n",
       "      <th>C</th>\n",
       "      <th>D</th>\n",
       "      <th>E</th>\n",
       "    </tr>\n",
       "  </thead>\n",
       "  <tbody>\n",
       "    <tr>\n",
       "      <th>2020-01-03</th>\n",
       "      <td>-0.647642</td>\n",
       "      <td>-0.490912</td>\n",
       "      <td>-0.317904</td>\n",
       "      <td>0.773827</td>\n",
       "      <td>two</td>\n",
       "    </tr>\n",
       "    <tr>\n",
       "      <th>2020-01-05</th>\n",
       "      <td>-0.573793</td>\n",
       "      <td>-0.871332</td>\n",
       "      <td>1.376489</td>\n",
       "      <td>-1.048176</td>\n",
       "      <td>four</td>\n",
       "    </tr>\n",
       "  </tbody>\n",
       "</table>\n",
       "</div>"
      ],
      "text/plain": [
       "                   A         B         C         D     E\n",
       "2020-01-03 -0.647642 -0.490912 -0.317904  0.773827   two\n",
       "2020-01-05 -0.573793 -0.871332  1.376489 -1.048176  four"
      ]
     },
     "execution_count": 47,
     "metadata": {},
     "output_type": "execute_result"
    }
   ],
   "source": [
    "df2[df2['E'].isin(['two','four'])]"
   ]
  },
  {
   "cell_type": "markdown",
   "metadata": {},
   "source": [
    "## Setting (설정)"
   ]
  },
  {
   "cell_type": "code",
   "execution_count": 54,
   "metadata": {
    "ExecuteTime": {
     "end_time": "2020-06-10T05:16:20.946878Z",
     "start_time": "2020-06-10T05:16:20.922176Z"
    }
   },
   "outputs": [
    {
     "data": {
      "text/plain": [
       "2020-01-02    1\n",
       "2020-01-03    2\n",
       "2020-01-04    3\n",
       "2020-01-05    4\n",
       "2020-01-06    5\n",
       "2020-01-07    6\n",
       "Freq: D, dtype: int64"
      ]
     },
     "execution_count": 54,
     "metadata": {},
     "output_type": "execute_result"
    }
   ],
   "source": [
    "s1 = pd.Series([1,2,3,4,5,6], index=pd.date_range('20200102', periods=6))\n",
    "s1"
   ]
  },
  {
   "cell_type": "code",
   "execution_count": 57,
   "metadata": {
    "ExecuteTime": {
     "end_time": "2020-06-10T05:16:37.896684Z",
     "start_time": "2020-06-10T05:16:37.886845Z"
    }
   },
   "outputs": [],
   "source": [
    "df['F'] = s1\n",
    "df.at[dates[0],'A'] = 0\n",
    "df.iat[0,1] = 0\n",
    "df.loc[:,'D'] = np.array([5] * len(df))"
   ]
  },
  {
   "cell_type": "code",
   "execution_count": 58,
   "metadata": {
    "ExecuteTime": {
     "end_time": "2020-06-10T05:16:39.079487Z",
     "start_time": "2020-06-10T05:16:39.063936Z"
    }
   },
   "outputs": [
    {
     "data": {
      "text/html": [
       "<div>\n",
       "<style scoped>\n",
       "    .dataframe tbody tr th:only-of-type {\n",
       "        vertical-align: middle;\n",
       "    }\n",
       "\n",
       "    .dataframe tbody tr th {\n",
       "        vertical-align: top;\n",
       "    }\n",
       "\n",
       "    .dataframe thead th {\n",
       "        text-align: right;\n",
       "    }\n",
       "</style>\n",
       "<table border=\"1\" class=\"dataframe\">\n",
       "  <thead>\n",
       "    <tr style=\"text-align: right;\">\n",
       "      <th></th>\n",
       "      <th>A</th>\n",
       "      <th>B</th>\n",
       "      <th>C</th>\n",
       "      <th>D</th>\n",
       "      <th>F</th>\n",
       "    </tr>\n",
       "  </thead>\n",
       "  <tbody>\n",
       "    <tr>\n",
       "      <th>2020-01-01</th>\n",
       "      <td>0.000000</td>\n",
       "      <td>0.000000</td>\n",
       "      <td>-0.807672</td>\n",
       "      <td>5</td>\n",
       "      <td>NaN</td>\n",
       "    </tr>\n",
       "    <tr>\n",
       "      <th>2020-01-02</th>\n",
       "      <td>-0.775322</td>\n",
       "      <td>1.281910</td>\n",
       "      <td>0.010319</td>\n",
       "      <td>5</td>\n",
       "      <td>1.0</td>\n",
       "    </tr>\n",
       "    <tr>\n",
       "      <th>2020-01-03</th>\n",
       "      <td>-0.647642</td>\n",
       "      <td>-0.490912</td>\n",
       "      <td>-0.317904</td>\n",
       "      <td>5</td>\n",
       "      <td>2.0</td>\n",
       "    </tr>\n",
       "    <tr>\n",
       "      <th>2020-01-04</th>\n",
       "      <td>-1.199544</td>\n",
       "      <td>2.099920</td>\n",
       "      <td>0.066917</td>\n",
       "      <td>5</td>\n",
       "      <td>3.0</td>\n",
       "    </tr>\n",
       "    <tr>\n",
       "      <th>2020-01-05</th>\n",
       "      <td>-0.573793</td>\n",
       "      <td>-0.871332</td>\n",
       "      <td>1.376489</td>\n",
       "      <td>5</td>\n",
       "      <td>4.0</td>\n",
       "    </tr>\n",
       "    <tr>\n",
       "      <th>2020-01-06</th>\n",
       "      <td>0.000056</td>\n",
       "      <td>0.406120</td>\n",
       "      <td>0.367155</td>\n",
       "      <td>5</td>\n",
       "      <td>5.0</td>\n",
       "    </tr>\n",
       "  </tbody>\n",
       "</table>\n",
       "</div>"
      ],
      "text/plain": [
       "                   A         B         C  D    F\n",
       "2020-01-01  0.000000  0.000000 -0.807672  5  NaN\n",
       "2020-01-02 -0.775322  1.281910  0.010319  5  1.0\n",
       "2020-01-03 -0.647642 -0.490912 -0.317904  5  2.0\n",
       "2020-01-04 -1.199544  2.099920  0.066917  5  3.0\n",
       "2020-01-05 -0.573793 -0.871332  1.376489  5  4.0\n",
       "2020-01-06  0.000056  0.406120  0.367155  5  5.0"
      ]
     },
     "execution_count": 58,
     "metadata": {},
     "output_type": "execute_result"
    }
   ],
   "source": [
    "df"
   ]
  },
  {
   "cell_type": "code",
   "execution_count": 59,
   "metadata": {
    "ExecuteTime": {
     "end_time": "2020-06-10T05:16:57.713308Z",
     "start_time": "2020-06-10T05:16:57.680774Z"
    }
   },
   "outputs": [
    {
     "data": {
      "text/html": [
       "<div>\n",
       "<style scoped>\n",
       "    .dataframe tbody tr th:only-of-type {\n",
       "        vertical-align: middle;\n",
       "    }\n",
       "\n",
       "    .dataframe tbody tr th {\n",
       "        vertical-align: top;\n",
       "    }\n",
       "\n",
       "    .dataframe thead th {\n",
       "        text-align: right;\n",
       "    }\n",
       "</style>\n",
       "<table border=\"1\" class=\"dataframe\">\n",
       "  <thead>\n",
       "    <tr style=\"text-align: right;\">\n",
       "      <th></th>\n",
       "      <th>A</th>\n",
       "      <th>B</th>\n",
       "      <th>C</th>\n",
       "      <th>D</th>\n",
       "      <th>F</th>\n",
       "    </tr>\n",
       "  </thead>\n",
       "  <tbody>\n",
       "    <tr>\n",
       "      <th>2020-01-01</th>\n",
       "      <td>0.000000</td>\n",
       "      <td>0.000000</td>\n",
       "      <td>-0.807672</td>\n",
       "      <td>-5</td>\n",
       "      <td>NaN</td>\n",
       "    </tr>\n",
       "    <tr>\n",
       "      <th>2020-01-02</th>\n",
       "      <td>-0.775322</td>\n",
       "      <td>-1.281910</td>\n",
       "      <td>-0.010319</td>\n",
       "      <td>-5</td>\n",
       "      <td>-1.0</td>\n",
       "    </tr>\n",
       "    <tr>\n",
       "      <th>2020-01-03</th>\n",
       "      <td>-0.647642</td>\n",
       "      <td>-0.490912</td>\n",
       "      <td>-0.317904</td>\n",
       "      <td>-5</td>\n",
       "      <td>-2.0</td>\n",
       "    </tr>\n",
       "    <tr>\n",
       "      <th>2020-01-04</th>\n",
       "      <td>-1.199544</td>\n",
       "      <td>-2.099920</td>\n",
       "      <td>-0.066917</td>\n",
       "      <td>-5</td>\n",
       "      <td>-3.0</td>\n",
       "    </tr>\n",
       "    <tr>\n",
       "      <th>2020-01-05</th>\n",
       "      <td>-0.573793</td>\n",
       "      <td>-0.871332</td>\n",
       "      <td>-1.376489</td>\n",
       "      <td>-5</td>\n",
       "      <td>-4.0</td>\n",
       "    </tr>\n",
       "    <tr>\n",
       "      <th>2020-01-06</th>\n",
       "      <td>-0.000056</td>\n",
       "      <td>-0.406120</td>\n",
       "      <td>-0.367155</td>\n",
       "      <td>-5</td>\n",
       "      <td>-5.0</td>\n",
       "    </tr>\n",
       "  </tbody>\n",
       "</table>\n",
       "</div>"
      ],
      "text/plain": [
       "                   A         B         C  D    F\n",
       "2020-01-01  0.000000  0.000000 -0.807672 -5  NaN\n",
       "2020-01-02 -0.775322 -1.281910 -0.010319 -5 -1.0\n",
       "2020-01-03 -0.647642 -0.490912 -0.317904 -5 -2.0\n",
       "2020-01-04 -1.199544 -2.099920 -0.066917 -5 -3.0\n",
       "2020-01-05 -0.573793 -0.871332 -1.376489 -5 -4.0\n",
       "2020-01-06 -0.000056 -0.406120 -0.367155 -5 -5.0"
      ]
     },
     "execution_count": 59,
     "metadata": {},
     "output_type": "execute_result"
    }
   ],
   "source": [
    "df2 = df.copy()\n",
    "df2[df2 > 0] = -df2\n",
    "\n",
    "df2"
   ]
  },
  {
   "cell_type": "code",
   "execution_count": null,
   "metadata": {},
   "outputs": [],
   "source": []
  }
 ],
 "metadata": {
  "kernelspec": {
   "display_name": "Python 3",
   "language": "python",
   "name": "python3"
  },
  "language_info": {
   "codemirror_mode": {
    "name": "ipython",
    "version": 3
   },
   "file_extension": ".py",
   "mimetype": "text/x-python",
   "name": "python",
   "nbconvert_exporter": "python",
   "pygments_lexer": "ipython3",
   "version": "3.6.10"
  },
  "toc": {
   "base_numbering": 1,
   "nav_menu": {},
   "number_sections": true,
   "sideBar": true,
   "skip_h1_title": false,
   "title_cell": "Table of Contents",
   "title_sidebar": "Contents",
   "toc_cell": false,
   "toc_position": {},
   "toc_section_display": true,
   "toc_window_display": false
  }
 },
 "nbformat": 4,
 "nbformat_minor": 4
}
